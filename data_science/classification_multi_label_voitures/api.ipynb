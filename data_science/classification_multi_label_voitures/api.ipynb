{
 "cells": [
  {
   "cell_type": "markdown",
   "metadata": {},
   "source": [
    "*Exercice réalisé par Michel Nguyen.*"
   ]
  },
  {
   "cell_type": "markdown",
   "metadata": {},
   "source": [
    "**AVANT D'EXECUTER CE NOTEBOOK, IL FAUT AU PRÉALABLE EXECUTER LE NOTEBOOK PRÉCÉDENT**"
   ]
  },
  {
   "cell_type": "markdown",
   "metadata": {},
   "source": [
    "Ce notebook a pour but de réaliser un API sur la base du notebook précédent. On souhaite créer une interface web telle qu'elle puisse prédire les équipements principaux à partir d'une liste exhaustive d'équipements.\n",
    "\n",
    "Pour cela, nous utiliserons la librairie flask."
   ]
  },
  {
   "cell_type": "code",
   "execution_count": 1,
   "metadata": {},
   "outputs": [],
   "source": [
    "# création d'API avec flask\n",
    "from flask import Flask, request, render_template\n",
    "\n",
    "# analyse des données\n",
    "import pandas as pd\n",
    "\n",
    "# sauvegarde du modèle\n",
    "import pickle\n",
    "\n",
    "# modèles de prédictions\n",
    "from sklearn import preprocessing\n",
    "from sklearn.multiclass import OneVsRestClassifier\n",
    "from sklearn.model_selection import train_test_split"
   ]
  },
  {
   "cell_type": "code",
   "execution_count": 2,
   "metadata": {},
   "outputs": [],
   "source": [
    "# définir l'application\n",
    "app = Flask(\"__name__\")\n",
    "\n",
    "q = \"\""
   ]
  },
  {
   "cell_type": "code",
   "execution_count": 3,
   "metadata": {},
   "outputs": [],
   "source": [
    "# définir la page home en utlisant un document html\n",
    "# ce document html doit contenir une case où on insère la liste exhaustive d'équipements ; un \n",
    "# bouton pour envoyer une requête ; ainsi qu'une case où apparait la prédiction\n",
    "@app.route(\"/\")\n",
    "def loadPage():\n",
    "    return render_template('home.html', query=\"\")"
   ]
  },
  {
   "cell_type": "code",
   "execution_count": 4,
   "metadata": {},
   "outputs": [],
   "source": [
    "# définir la prédiction à partir de la liste exhaustive envoyée par l'utilisateur\n",
    "# on reprend presque tous les éléménts utiles du notebook précédent pour la construction du modèle de prédiction\n",
    "@app.route(\"/\", methods=['GET','POST'])\n",
    "def carPrediction():\n",
    "    df = pd.read_csv('cars_data.csv', sep=\";\")\n",
    "    df = df[:99]\n",
    "    \n",
    "    df['main_equipments'] = df['main_equipments'].apply(lambda x: str(x).split(\", \"))\n",
    "    X = df.iloc[:, 5].values\n",
    "    y = df.iloc[:, -1].values\n",
    "    X = X[:99]\n",
    "    y = y[:99]\n",
    "    \n",
    "    X_train, X_test, y_train_text, y_test_text = train_test_split(X,y, test_size = 0.2,random_state = 0)\n",
    "\n",
    "    Y_train_text = []\n",
    "    for i in range(0,len(y_train_text)):\n",
    "        Y_train_text.append(\", \".join(y_train_text[i]))\n",
    "    Y_train_text\n",
    "\n",
    "    for i in range(0,len(Y_train_text)):\n",
    "        Y_train_text[i] = Y_train_text[i].split(', ')\n",
    "\n",
    "    Y_test_text = []\n",
    "    for i in range(0,len(y_test_text)):\n",
    "        Y_test_text.append(\", \".join(y_test_text[i]))\n",
    "\n",
    "    for i in range(0,len(Y_test_text)):\n",
    "        Y_test_text[i] = Y_test_text[i].split(', ')\n",
    "    \n",
    "    mlb = preprocessing.MultiLabelBinarizer(classes=('4 roues motrices (4x4)', '7 places', 'Android Auto',\n",
    "     'Apple Car Play',\n",
    "     'Bluetooth',\n",
    "     'Caméra de recul',\n",
    "     'Climatisation',\n",
    "     'GPS',\n",
    "     'Intérieur cuir',\n",
    "     'Jantes alliage',\n",
    "     'Radar de recul',\n",
    "     'Régulateur de vitesse',\n",
    "     'Toit ouvrant/panoramique'))\n",
    "    Y = mlb.fit_transform(Y_train_text)\n",
    "    Y_test = mlb.fit_transform(Y_test_text)\n",
    "\n",
    "    # utilisation du fichier 'classifier.sav'\n",
    "    classifier = pickle.load(open('classifier.sav', 'rb'))\n",
    "    \n",
    "    # 'query1' est la liste exhaustive envoyée par l'utilisateur\n",
    "    newCar = [request.form['query1']]\n",
    "    # on soumet query1 au modèle de prédiction\n",
    "    prediction = classifier.predict(newCar)\n",
    "    all_labels = mlb.inverse_transform(prediction)\n",
    "    # 'o1' est la prédiction selon le modèle de prédiction\n",
    "    o1 = []\n",
    "    for item, labels in zip(newCar, all_labels):\n",
    "        o1.append(labels)\n",
    "        \n",
    "    return render_template('home.html', output1=o1, query1 = request.form['query1'])"
   ]
  },
  {
   "cell_type": "code",
   "execution_count": null,
   "metadata": {},
   "outputs": [
    {
     "name": "stdout",
     "output_type": "stream",
     "text": [
      " * Serving Flask app \"__name__\" (lazy loading)\n",
      " * Environment: production\n",
      "   WARNING: This is a development server. Do not use it in a production deployment.\n",
      "   Use a production WSGI server instead.\n",
      " * Debug mode: off\n"
     ]
    },
    {
     "name": "stderr",
     "output_type": "stream",
     "text": [
      " * Running on http://127.0.0.1:5000/ (Press CTRL+C to quit)\n",
      "127.0.0.1 - - [21/Jan/2022 11:53:08] \"\u001b[37mGET / HTTP/1.1\u001b[0m\" 200 -\n",
      "127.0.0.1 - - [21/Jan/2022 11:53:59] \"\u001b[37mPOST / HTTP/1.1\u001b[0m\" 200 -\n"
     ]
    }
   ],
   "source": [
    "app.run(port=5000)"
   ]
  }
 ],
 "metadata": {
  "kernelspec": {
   "display_name": "Python 3",
   "language": "python",
   "name": "python3"
  },
  "language_info": {
   "codemirror_mode": {
    "name": "ipython",
    "version": 3
   },
   "file_extension": ".py",
   "mimetype": "text/x-python",
   "name": "python",
   "nbconvert_exporter": "python",
   "pygments_lexer": "ipython3",
   "version": "3.8.3"
  }
 },
 "nbformat": 4,
 "nbformat_minor": 4
}
